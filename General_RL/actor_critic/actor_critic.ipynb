{
 "cells": [
  {
   "cell_type": "markdown",
   "metadata": {
    "collapsed": true,
    "pycharm": {
     "name": "#%% md\n"
    }
   },
   "source": [
    "actor critic\n",
    "\n",
    "- advantage\n",
    "    $$A(s,a) = \\mathbb E [r(s,a) - r(s)]$$\n",
    "    $$A(s,a) = Q(s,a) - V(s)$$\n",
    "    $$A(s,a) = r + \\gamma V(s^\\prime_\\pi) - V(s_\\pi)$$\n",
    "    - a scalar measure of how good or bad an action is from the current state"
   ]
  }
 ],
 "metadata": {
  "kernelspec": {
   "display_name": "Python 3",
   "language": "python",
   "name": "python3"
  },
  "language_info": {
   "codemirror_mode": {
    "name": "ipython",
    "version": 2
   },
   "file_extension": ".py",
   "mimetype": "text/x-python",
   "name": "python",
   "nbconvert_exporter": "python",
   "pygments_lexer": "ipython2",
   "version": "2.7.6"
  }
 },
 "nbformat": 4,
 "nbformat_minor": 0
}